{
 "cells": [
  {
   "cell_type": "code",
   "execution_count": 941,
   "metadata": {},
   "outputs": [],
   "source": [
    "import sys\n",
    "sys.path.insert(0, '../../Utilities/')\n",
    "import torch\n",
    "import numpy as np\n",
    "import torch.nn as nn\n",
    "import torch.nn.functional as F\n",
    "import matplotlib.pyplot as plt\n",
    "import scipy.io\n",
    "from scipy.interpolate import griddata\n",
    "from pyDOE import lhs\n",
    "from plotting import newfig, savefig\n",
    "from mpl_toolkits.mplot3d import Axes3D\n",
    "import time\n",
    "import matplotlib.gridspec as gridspec\n",
    "from mpl_toolkits.axes_grid1 import make_axes_locatable\n",
    "\n",
    "np.random.seed(1234)\n",
    "torch.manual_seed(1234)\n",
    "\n",
    "class PhysicsInformedNN(nn.Module):\n",
    "#     def __init__(self, layers):\n",
    "    def __init__(self, layers):\n",
    "        super(PhysicsInformedNN, self).__init__()\n",
    "        \n",
    "        self.nn = nn.Sequential()\n",
    "        for l in range(len(layers)-2):\n",
    "            self.nn.add_module('linear'+str(l), nn.Linear(layers[l], layers[l+1]))\n",
    "            self.nn.add_module('tanh'+str(l), nn.Tanh())\n",
    "        self.nn.add_module('linear_last', nn.Linear(layers[-2], layers[-1]) )\n",
    "#         self.layers = layers\n",
    "#         self.init_NN(layers) # 构建网络\n",
    "        \n",
    "#     def init_NN(self, layers):\n",
    "#         self.nn = nn.ModuleList([nn.Linear(layers[l], layers[l+1]) \n",
    "#                                  for l in range(len(layers)-1) ] )        \n",
    "        \n",
    "    def forward(self, x):\n",
    "        out = self.nn(x)\n",
    "#         for layer in self.nn[:-1] :\n",
    "#             x = torch.tanh(layer(x))\n",
    "#         x = self.nn[-1](x)\n",
    "        return out\n",
    "\n",
    "# model = PhysicsInformedNN(X_u_train, u_train, X_f_train, layers, lb, ub, nu)"
   ]
  },
  {
   "cell_type": "code",
   "execution_count": 943,
   "metadata": {},
   "outputs": [],
   "source": [
    "nu = 0.01/np.pi\n",
    "noise = 0.0        \n",
    "\n",
    "N_u = 100\n",
    "N_f = 10000\n",
    "layers = [2, 20, 20, 20, 20, 20, 20, 20, 20, 1]\n",
    "\n",
    "data = scipy.io.loadmat('../Data/burgers_shock.mat')\n",
    "\n",
    "#转成一列\n",
    "t = data['t'].flatten()[:,None]\n",
    "x = data['x'].flatten()[:,None]\n",
    "Exact = np.real(data['usol']).T\n",
    "\n",
    "X, T = np.meshgrid(x,t) # X与T的维数为n_t*n_x 第一维是时间\n",
    "\n",
    "# X_star = np.hstack((X.flatten()[:,None], T.flatten()[:,None]))\n",
    "X_star = np.stack((X.ravel(), T.ravel()), axis=1)\n",
    "u_star = Exact.ravel()[:,None]              \n",
    "\n",
    "# Doman bounds\n",
    "lb = X_star.min(0)\n",
    "ub = X_star.max(0)\n",
    "#初值\n",
    "xx1 = np.stack((X[0,:], T[0,:]), axis=1) #xx1中坐标（x,t）\n",
    "uu1 = Exact[0:1,:].T #确保是一列\n",
    "#左边界\n",
    "xx2 = np.stack((X[:,0], T[:,0]), axis=1)\n",
    "uu2 = Exact[:,0:1]\n",
    "#右边界\n",
    "xx3 = np.stack((X[:,-1], T[:,-1]), axis=1)\n",
    "uu3 = Exact[:,-1:]\n",
    "\n",
    "X_u_train = np.vstack([xx1, xx2, xx3])\n",
    "u_train = np.vstack([uu1, uu2, uu3])\n",
    "X_f_train = lb + (ub-lb)*lhs(2, N_f) # 用lhs在区域内生成N_f个点\n",
    "X_f_train = np.vstack((X_f_train, X_u_train))\n",
    "#random 选 N_u 个点作为 u 训练集\n",
    "idx = np.random.choice(X_u_train.shape[0], N_u, replace=False)\n",
    "X_u_train = X_u_train[idx, :]\n",
    "u_train = u_train[idx,:]\n",
    "\n",
    "device = torch.device('cuda')\n",
    "X_u_trainG = torch.tensor(X_u_train, dtype=torch.float, device=device)\n",
    "u_trainG = torch.tensor(u_train,dtype=torch.float,device=device)\n",
    "X_f_trainG = torch.tensor(X_f_train,dtype=torch.float,device=device)\n"
   ]
  },
  {
   "cell_type": "code",
   "execution_count": 944,
   "metadata": {},
   "outputs": [
    {
     "data": {
      "text/plain": [
       "PhysicsInformedNN(\n",
       "  (nn): Sequential(\n",
       "    (linear0): Linear(in_features=2, out_features=20, bias=True)\n",
       "    (tanh0): Tanh()\n",
       "    (linear1): Linear(in_features=20, out_features=20, bias=True)\n",
       "    (tanh1): Tanh()\n",
       "    (linear2): Linear(in_features=20, out_features=20, bias=True)\n",
       "    (tanh2): Tanh()\n",
       "    (linear3): Linear(in_features=20, out_features=20, bias=True)\n",
       "    (tanh3): Tanh()\n",
       "    (linear4): Linear(in_features=20, out_features=20, bias=True)\n",
       "    (tanh4): Tanh()\n",
       "    (linear5): Linear(in_features=20, out_features=20, bias=True)\n",
       "    (tanh5): Tanh()\n",
       "    (linear6): Linear(in_features=20, out_features=20, bias=True)\n",
       "    (tanh6): Tanh()\n",
       "    (linear7): Linear(in_features=20, out_features=20, bias=True)\n",
       "    (tanh7): Tanh()\n",
       "    (linear_last): Linear(in_features=20, out_features=1, bias=True)\n",
       "  )\n",
       ")"
      ]
     },
     "execution_count": 944,
     "metadata": {},
     "output_type": "execute_result"
    }
   ],
   "source": [
    "model = PhysicsInformedNN(layers)\n",
    "model.to(device=device)"
   ]
  },
  {
   "cell_type": "code",
   "execution_count": 937,
   "metadata": {},
   "outputs": [
    {
     "name": "stdout",
     "output_type": "stream",
     "text": [
      "Linear(in_features=2, out_features=20, bias=True)\n",
      "Linear(in_features=20, out_features=20, bias=True)\n",
      "Linear(in_features=20, out_features=20, bias=True)\n",
      "Linear(in_features=20, out_features=20, bias=True)\n",
      "Linear(in_features=20, out_features=20, bias=True)\n",
      "Linear(in_features=20, out_features=20, bias=True)\n",
      "Linear(in_features=20, out_features=20, bias=True)\n",
      "Linear(in_features=20, out_features=20, bias=True)\n",
      "Linear(in_features=20, out_features=1, bias=True)\n"
     ]
    }
   ],
   "source": [
    "for i in model.children():\n",
    "    for j in i:\n",
    "        if type(j) == nn.Linear:\n",
    "            print(j)\n",
    "            torch.nn.init.xavier_normal_(j.weight)\n",
    "            torch.nn.init.zeros_(j.bias)\n",
    "#             print(j.weight)\n",
    "        "
   ]
  },
  {
   "cell_type": "code",
   "execution_count": null,
   "metadata": {},
   "outputs": [],
   "source": []
  },
  {
   "cell_type": "code",
   "execution_count": 949,
   "metadata": {},
   "outputs": [
    {
     "name": "stdout",
     "output_type": "stream",
     "text": [
      "loss:  0.31987911462783813 loss_u:  0.31987911462783813 loss_f:  5.221391353137095e-13\n",
      "loss:  0.3198789954185486 loss_u:  0.3198789954185486 loss_f:  1.1350692521311379e-12\n",
      "loss:  0.31987878680229187 loss_u:  0.31987878680229187 loss_f:  2.7253371000929283e-12\n",
      "loss:  0.3198784291744232 loss_u:  0.3198784291744232 loss_f:  7.893408149328707e-12\n",
      "loss:  0.3198769688606262 loss_u:  0.3198769688606262 loss_f:  4.1474074174985276e-11\n",
      "loss:  0.31800052523612976 loss_u:  0.317970871925354 loss_f:  2.9655129765160382e-05\n",
      "loss:  0.32003024220466614 loss_u:  0.32003024220466614 loss_f:  4.820621058308101e-34\n",
      "loss:  0.3198794424533844 loss_u:  0.3198794424533844 loss_f:  4.819544287115649e-34\n",
      "loss:  0.3198794722557068 loss_u:  0.3198794722557068 loss_f:  4.819554389020226e-34\n",
      "loss:  0.3198794424533844 loss_u:  0.3198794424533844 loss_f:  4.819553011487784e-34\n"
     ]
    }
   ],
   "source": [
    "optimizer = torch.optim.Adam(model.parameters(), lr=0.1)\n",
    "loss_func = torch.nn.MSELoss()\n",
    "\n",
    "grad_weight = torch.ones((X_f_trainG.shape[0] , 1)).to(device)\n",
    "grad_weight2 = torch.zeros_like(X_f_trainG).to(device) \n",
    "grad_weight2[:,0] = 1. #第一列为1\n",
    "target_f = torch.zeros((X_f_train.shape[0] , 1)).to(device)\n",
    "X_f_trainG.requires_grad_()\n",
    "\n",
    "for epoch in range(1000):\n",
    "    u_pred = model(X_u_trainG)\n",
    "    u_f_pred = model(X_f_trainG)\n",
    "           \n",
    "    u_f_pred_grad = torch.autograd.grad(u_f_pred, X_f_trainG, \n",
    "                                     grad_weight, create_graph=True, retain_graph=True)[0]\n",
    "    u_f_pred_grad2 = torch.autograd.grad(u_f_pred_grad, X_f_trainG,\n",
    "                                     grad_weight2, create_graph=True, retain_graph=True)[0]\n",
    "    \n",
    "#     for i in model.children():\n",
    "#         for j in i:\n",
    "#             if type(j) == nn.Linear:\n",
    "#                 print(j)\n",
    "# #                 torch.nn.init.xavier_normal_(j.weight)\n",
    "# #                 torch.nn.init.zeros_(j.bias)\n",
    "#                 print(j.bias)\n",
    "    \n",
    "    u_f_pred_t = u_f_pred_grad[:, 1:2] # u_t 在第二列\n",
    "    u_f_pred_x = u_f_pred_grad[:, 0:1]\n",
    "    u_f_pred_xx = u_f_pred_grad2[:,0:1]\n",
    "    #f = u_t + u*u_x - self.nu*u_xx\n",
    "    f_pred = u_f_pred_t + u_f_pred*u_f_pred_x - nu*u_f_pred_xx\n",
    "    \n",
    "    loss_u = loss_func(u_pred, u_trainG)\n",
    "    loss_f = loss_func(f_pred, target_f)\n",
    "    loss = loss_u + loss_f\n",
    "\n",
    "    optimizer.zero_grad()\n",
    "    loss.backward()\n",
    "    optimizer.step()\n",
    "    \n",
    "    if (epoch+1)%100==0:\n",
    "        print('loss: ', loss.item(), 'loss_u: ', loss_u.item(),'loss_f: ', loss_f.item())\n",
    "\n"
   ]
  },
  {
   "cell_type": "code",
   "execution_count": null,
   "metadata": {},
   "outputs": [],
   "source": [
    "x = torch.randn(1,2)\n",
    "d= dict(model.named_parameters())\n",
    "d['z']= X_f_trainG\n",
    "\n",
    "make_dot(u_f_pred,d)"
   ]
  },
  {
   "cell_type": "code",
   "execution_count": 948,
   "metadata": {},
   "outputs": [
    {
     "data": {
      "text/plain": [
       "Text(0.5,1,'$t = 0.75$')"
      ]
     },
     "execution_count": 948,
     "metadata": {},
     "output_type": "execute_result"
    },
    {
     "name": "stderr",
     "output_type": "stream",
     "text": [
      "C:\\Users\\z\\Anaconda3\\lib\\site-packages\\matplotlib\\font_manager.py:1328: UserWarning: findfont: Font family ['serif'] not found. Falling back to DejaVu Sans\n",
      "  (prop.get_family(), self.defaultFamily[fontext]))\n"
     ]
    },
    {
     "data": {
      "image/png": "[encoded data removed]",
      "text/plain": [
       "<Figure size 388.543x264.146 with 5 Axes>"
      ]
     },
     "metadata": {},
     "output_type": "display_data"
    }
   ],
   "source": [
    "u_pred = model(torch.from_numpy(X_star).float().to(device))\n",
    "\n",
    "# error_u = torch.norm(u_star-u_pred,2)/torch.norm(u_star,2)\n",
    "# print('Error u: %e' % (error_u))\n",
    "\n",
    "u_pred = u_pred.detach().cpu().numpy()\n",
    "U_pred = griddata(X_star, u_pred.flatten(), (X, T), method='cubic')\n",
    "Error = np.abs(Exact - U_pred)\n",
    "\n",
    "\n",
    "######################################################################\n",
    "############################# Plotting ###############################\n",
    "######################################################################    \n",
    "\n",
    "fig, ax = newfig(1.0, 1.1)\n",
    "ax.axis('off')\n",
    "\n",
    "####### Row 0: u(t,x) ##################    \n",
    "gs0 = gridspec.GridSpec(1, 2)\n",
    "gs0.update(top=1-0.06, bottom=1-1/3, left=0.15, right=0.85, wspace=0)\n",
    "ax = plt.subplot(gs0[:, :])\n",
    "\n",
    "h = ax.imshow(U_pred.T, interpolation='nearest', cmap='rainbow', \n",
    "              extent=[t.min(), t.max(), x.min(), x.max()], \n",
    "              origin='lower', aspect='auto')\n",
    "divider = make_axes_locatable(ax)\n",
    "cax = divider.append_axes(\"right\", size=\"5%\", pad=0.05)\n",
    "fig.colorbar(h, cax=cax)\n",
    "\n",
    "ax.plot(X_u_train[:,1], X_u_train[:,0], 'kx', label = 'Data (%d points)' % (u_train.shape[0]), markersize = 4, clip_on = False)\n",
    "\n",
    "line = np.linspace(x.min(), x.max(), 2)[:,None]\n",
    "ax.plot(t[25]*np.ones((2,1)), line, 'w-', linewidth = 1)\n",
    "ax.plot(t[50]*np.ones((2,1)), line, 'w-', linewidth = 1)\n",
    "ax.plot(t[75]*np.ones((2,1)), line, 'w-', linewidth = 1)    \n",
    "\n",
    "ax.set_xlabel('$t$')\n",
    "ax.set_ylabel('$x$')\n",
    "ax.legend(frameon=False, loc = 'best')\n",
    "ax.set_title('$u(t,x)$', fontsize = 10)\n",
    "\n",
    "####### Row 1: u(t,x) slices ##################    \n",
    "gs1 = gridspec.GridSpec(1, 3)\n",
    "gs1.update(top=1-1/3, bottom=0, left=0.1, right=0.9, wspace=0.5)\n",
    "\n",
    "ax = plt.subplot(gs1[0, 0])\n",
    "ax.plot(x,Exact[25,:], 'b-', linewidth = 2, label = 'Exact')       \n",
    "ax.plot(x,U_pred[25,:], 'r--', linewidth = 2, label = 'Prediction')\n",
    "ax.set_xlabel('$x$')\n",
    "ax.set_ylabel('$u(t,x)$')    \n",
    "ax.set_title('$t = 0.25$', fontsize = 10)\n",
    "ax.axis('square')\n",
    "ax.set_xlim([-1.1,1.1])\n",
    "ax.set_ylim([-1.1,1.1])\n",
    "\n",
    "ax = plt.subplot(gs1[0, 1])\n",
    "ax.plot(x,Exact[50,:], 'b-', linewidth = 2, label = 'Exact')       \n",
    "ax.plot(x,U_pred[50,:], 'r--', linewidth = 2, label = 'Prediction')\n",
    "ax.set_xlabel('$x$')\n",
    "ax.set_ylabel('$u(t,x)$')\n",
    "ax.axis('square')\n",
    "ax.set_xlim([-1.1,1.1])\n",
    "ax.set_ylim([-1.1,1.1])\n",
    "ax.set_title('$t = 0.50$', fontsize = 10)\n",
    "ax.legend(loc='upper center', bbox_to_anchor=(0.5, -0.35), ncol=5, frameon=False)\n",
    "\n",
    "ax = plt.subplot(gs1[0, 2])\n",
    "ax.plot(x,Exact[75,:], 'b-', linewidth = 2, label = 'Exact')       \n",
    "ax.plot(x,U_pred[75,:], 'r--', linewidth = 2, label = 'Prediction')\n",
    "ax.set_xlabel('$x$')\n",
    "ax.set_ylabel('$u(t,x)$')\n",
    "ax.axis('square')\n",
    "ax.set_xlim([-1.1,1.1])\n",
    "ax.set_ylim([-1.1,1.1])    \n",
    "ax.set_title('$t = 0.75$', fontsize = 10)"
   ]
  },
  {
   "cell_type": "code",
   "execution_count": null,
   "metadata": {},
   "outputs": [],
   "source": []
  }
 ],
 "metadata": {
  "kernelspec": {
   "display_name": "Python 3",
   "language": "python",
   "name": "python3"
  },
  "language_info": {
   "codemirror_mode": {
    "name": "ipython",
    "version": 3
   },
   "file_extension": ".py",
   "mimetype": "text/x-python",
   "name": "python",
   "nbconvert_exporter": "python",
   "pygments_lexer": "ipython3",
   "version": "3.6.4"
  }
 },
 "nbformat": 4,
 "nbformat_minor": 2
}
